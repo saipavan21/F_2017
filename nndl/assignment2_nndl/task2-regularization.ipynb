{
 "cells": [
  {
   "cell_type": "markdown",
   "metadata": {},
   "source": [
    "# ECBM E4040 Assignment 2 - Task 1: Regularizations\n",
    "\n",
    "In this task, you are going to experiment with two popular regularization methods. \n",
    "\n",
    "** Dropout:** In the last assignment, you have trained a shallow network and everything looked fine. However, when the network becomes larger and deeper, it will also become harder to train. The first potential problem is over-fitting, that is, the network overreacts to noise or random errors of the training data, while it fails to detect the underlying distribution pattern. It is more likely to occur when the model becomes complex and contains more trainable parameters. Dropout is a well-known method that can eliminate such effects. The core idea behind it is quite simple, ie., rather than updating all trainable parameters each time, it randomly selects a subset of parameters to update and keeps other parameters unaltered.\n",
    "\n",
    "\n",
    "\n",
    "** Batch normalization:** Batch normalization makes it possible to train a deep network. When a network becomes deeper, the distribution of hidden neurons' values will also shift greatly, and that is one reason that makes it hard to train a deep neural network. Machine learning teaches that normalization is a good preprocessing method to deal with such a problem. So  batch normalization deploys a similar idea in the neural network. It re-normalizes the hidden values of each layer before transfering values to the next layer.\n",
    "\n",
    "\n",
    "* References\n",
    "    * https://www.cs.toronto.edu/~hinton/absps/JMLRdropout.pdf\n",
    "    * https://arxiv.org/pdf/1502.03167.pdf\n",
    "    * https://www.tensorflow.org/api_docs/python/tf/contrib/layers/batch_norm\n",
    "    * https://github.com/tensorflow/tensorflow/blob/r1.3/tensorflow/contrib/layers/python/layers/layers.py\n",
    "    * https://www.tensorflow.org/api_docs/python/tf/nn/batch_normalization"
   ]
  },
  {
   "cell_type": "code",
   "execution_count": 1,
   "metadata": {},
   "outputs": [],
   "source": [
    "% matplotlib inline\n",
    "% load_ext autoreload\n",
    "% autoreload 2\n",
    "\n",
    "# Import modules\n",
    "from __future__ import print_function\n",
    "import tensorflow as tf\n",
    "import numpy as np\n",
    "import matplotlib.pyplot as plt\n",
    "from ecbm4040.cifar_utils import load_data"
   ]
  },
  {
   "cell_type": "markdown",
   "metadata": {},
   "source": [
    "## Load Data"
   ]
  },
  {
   "cell_type": "code",
   "execution_count": 2,
   "metadata": {},
   "outputs": [
    {
     "name": "stdout",
     "output_type": "stream",
     "text": [
      "./data/cifar-10-python.tar.gz already exists. Begin extracting...\n",
      "Training data shape:  (2000, 3072)\n",
      "Training labels shape:  (2000,)\n",
      "Validation data shape:  (500, 3072)\n",
      "Validation labels shape:  (500,)\n"
     ]
    }
   ],
   "source": [
    "# Load the raw CIFAR-10 data.\n",
    "X_train, y_train, X_test, y_test = load_data()\n",
    "X_val = X_train[:500,:]\n",
    "y_val = y_train[:500]\n",
    "X_train = X_train[500:2500,:]\n",
    "y_train = y_train[500:2500]\n",
    "\n",
    "mean_image = np.mean(X_train, axis=0).astype(np.float32)\n",
    "X_train = X_train.astype(np.float32) - mean_image\n",
    "X_val = X_val.astype(np.float32) - mean_image\n",
    "\n",
    "# We've vectorized the data for you. That is, we flatten the 32×32×3 images into 1×3072 Numpy arrays.\n",
    "print('Training data shape: ', X_train.shape)\n",
    "print('Training labels shape: ', y_train.shape)\n",
    "print('Validation data shape: ', X_val.shape)\n",
    "print('Validation labels shape: ', y_val.shape)"
   ]
  },
  {
   "cell_type": "markdown",
   "metadata": {},
   "source": [
    "## Part 1: Dropout"
   ]
  },
  {
   "cell_type": "markdown",
   "metadata": {},
   "source": [
    "### Implement dropout foward function\n",
    "\n",
    "<span style=\"color:red\"><strong>TODO:</strong></span> Edit functions **dropout_forward** in **./ecbm4040/reg_funcs.py**. If the code is running correctly, you will see that the outputs of checking code should be close to each other. Also, if the function is correct, then the output mean should be close to each other."
   ]
  },
  {
   "cell_type": "code",
   "execution_count": 3,
   "metadata": {},
   "outputs": [],
   "source": [
    "x_in = np.random.randn(500, 500) + 10"
   ]
  },
  {
   "cell_type": "code",
   "execution_count": 4,
   "metadata": {},
   "outputs": [
    {
     "name": "stdout",
     "output_type": "stream",
     "text": [
      "mean_of_input = 4.996814732343091\n",
      "mean_of_out = 5.01606636245815\n",
      "mean_of_out_test = 5.057861478099062\n"
     ]
    }
   ],
   "source": [
    "from ecbm4040.reg_funcs import dropout_forward\n",
    "from ecbm4040.reg_funcs import dropout_backward\n",
    "\n",
    "p = 0.5\n",
    "dropout_config = {\"enabled\": True, \"keep_prob\": p}\n",
    "# feedforward\n",
    "out, cache = dropout_forward(x=x_in, dropout_config=dropout_config, mode=\"train\")\n",
    "out_test, _ = dropout_forward(x=x_in, dropout_config=dropout_config, mode=\"test\") \n",
    "# backward\n",
    "dout = np.ones_like(x_in)\n",
    "dx = dropout_backward(dout, cache)\n",
    "#######################################\n",
    "# Checking code. Don't change it.     #\n",
    "#######################################\n",
    "# Check forward correctness\n",
    "print(\"mean_of_input = {}\".format(p*np.mean(x_in)))\n",
    "print(\"mean_of_out = {}\".format(np.mean(out)))\n",
    "print(\"mean_of_out_test = {}\".format(np.mean(out_test)))"
   ]
  },
  {
   "cell_type": "markdown",
   "metadata": {},
   "source": [
    "### Experiments with MLP\n",
    "\n",
    "<span style=\"color:red\"><strong>TODO:</strong></span>\n",
    "\n",
    "1. Add dropout into MLP. Please review **loss**, **predict** function of class **MLP** in **./ecbm4040/neuralnets/mlp.py**, and understand how **dropout** is added into MLP.\n",
    "\n",
    "2. Customize your own MLP network.Then, train networks with different **keep_prob**, like 0.1, 0.5, 0.7, 0.9, 1. If **keep_prob**==1, then the network become the normal MLP without dropout.\n",
    "\n",
    "3. Plot the loss, train accuracy and valid accuracy curve."
   ]
  },
  {
   "cell_type": "code",
   "execution_count": 5,
   "metadata": {},
   "outputs": [],
   "source": [
    "from ecbm4040.neuralnets.mlp import MLP \n",
    "from ecbm4040.optimizers import AdamOptim"
   ]
  },
  {
   "cell_type": "code",
   "execution_count": 6,
   "metadata": {},
   "outputs": [
    {
     "name": "stdout",
     "output_type": "stream",
     "text": [
      "number of batches for training: 20\n",
      "epoch 1: valid acc = 0.194, new learning rate = 0.00095\n",
      "epoch 2: valid acc = 0.262, new learning rate = 0.0009025\n",
      "epoch 3: valid acc = 0.274, new learning rate = 0.000857375\n",
      "epoch 4: valid acc = 0.302, new learning rate = 0.0008145062499999999\n",
      "epoch 5: valid acc = 0.276, new learning rate = 0.0007737809374999998\n",
      "epoch 6: valid acc = 0.286, new learning rate = 0.0007350918906249997\n",
      "epoch 7: valid acc = 0.29, new learning rate = 0.0006983372960937497\n",
      "epoch 8: valid acc = 0.282, new learning rate = 0.0006634204312890621\n",
      "epoch 9: valid acc = 0.294, new learning rate = 0.000630249409724609\n",
      "epoch 10: valid acc = 0.314, new learning rate = 0.0005987369392383785\n",
      "epoch 11: valid acc = 0.308, new learning rate = 0.0005688000922764595\n",
      "epoch 12: valid acc = 0.296, new learning rate = 0.0005403600876626365\n",
      "epoch 13: valid acc = 0.294, new learning rate = 0.0005133420832795047\n",
      "epoch 14: valid acc = 0.318, new learning rate = 0.00048767497911552944\n",
      "epoch 15: valid acc = 0.318, new learning rate = 0.00046329123015975297\n",
      "epoch 16: valid acc = 0.306, new learning rate = 0.0004401266686517653\n",
      "epoch 17: valid acc = 0.33, new learning rate = 0.00041812033521917703\n",
      "epoch 18: valid acc = 0.35, new learning rate = 0.00039721431845821814\n",
      "epoch 19: valid acc = 0.338, new learning rate = 0.0003773536025353072\n",
      "epoch 20: valid acc = 0.346, new learning rate = 0.0003584859224085418\n"
     ]
    }
   ],
   "source": [
    "# Here is an example on how to collect loss and accuracy info\n",
    "dropout_config = {\"enabled\":True, \"keep_prob\": 1}\n",
    "model = MLP(input_dim=3072, hidden_dims=[200], num_classes=10, \n",
    "            weight_scale=1e-3, l2_reg=0.0, dropout_config=dropout_config)\n",
    "optimizer = AdamOptim(model)\n",
    "# hist_no_dropout contains loss, train acc and valid acc history.\n",
    "hist_no_dropout = optimizer.train(model, X_train, y_train, X_val, y_val, \n",
    "                           num_epoch=20, batch_size=100, learning_rate=1e-3, learning_decay=0.95, \n",
    "                           verbose=False, record_interval = 4)"
   ]
  },
  {
   "cell_type": "code",
   "execution_count": null,
   "metadata": {
    "collapsed": true
   },
   "outputs": [],
   "source": [
    "# small retention rate"
   ]
  },
  {
   "cell_type": "code",
   "execution_count": null,
   "metadata": {
    "collapsed": true
   },
   "outputs": [],
   "source": [
    "# keep prob 0.5"
   ]
  },
  {
   "cell_type": "code",
   "execution_count": null,
   "metadata": {
    "collapsed": true
   },
   "outputs": [],
   "source": [
    "# keep prob 0.7"
   ]
  },
  {
   "cell_type": "code",
   "execution_count": null,
   "metadata": {
    "collapsed": true
   },
   "outputs": [],
   "source": [
    "# keep prob 0.9"
   ]
  },
  {
   "cell_type": "code",
   "execution_count": null,
   "metadata": {
    "collapsed": true
   },
   "outputs": [],
   "source": []
  },
  {
   "cell_type": "code",
   "execution_count": null,
   "metadata": {
    "collapsed": true
   },
   "outputs": [],
   "source": [
    "# plot loss curve"
   ]
  },
  {
   "cell_type": "code",
   "execution_count": null,
   "metadata": {
    "collapsed": true
   },
   "outputs": [],
   "source": [
    "# plot train acc"
   ]
  },
  {
   "cell_type": "code",
   "execution_count": null,
   "metadata": {
    "collapsed": true
   },
   "outputs": [],
   "source": [
    "# plot val acc"
   ]
  },
  {
   "cell_type": "markdown",
   "metadata": {},
   "source": [
    "<span style=\"color:red\"><strong>TODO:</strong></span> Describe what you find in this dropout experiment."
   ]
  },
  {
   "cell_type": "markdown",
   "metadata": {},
   "source": [
    "Answer: **[fill in here]**"
   ]
  },
  {
   "cell_type": "markdown",
   "metadata": {},
   "source": [
    "## Part 2: Batch Normalization"
   ]
  },
  {
   "cell_type": "markdown",
   "metadata": {},
   "source": [
    "### Implement batch normalization foward function\n",
    "\n",
    "<span style=\"color:red\"><strong>TODO:</strong></span> Edit functions **bn_forward** in **./ecbm4040/reg_funcs.py**. If the code is running correctly, you will see that the outputs of checking code should be close to each other."
   ]
  },
  {
   "cell_type": "code",
   "execution_count": 16,
   "metadata": {},
   "outputs": [
    {
     "name": "stdout",
     "output_type": "stream",
     "text": [
      "mean of a2:  [ 1.79186704 -1.67375614 -0.40317141]\n",
      "var of a2:  [ 19.78665186   3.35093598   6.67922991]\n",
      "(train) mean of a2_bn:  [  3.23630012e-16   1.64868119e-16  -5.46437895e-17]\n",
      "(train) var of a2_bn:  [ 0.99999949  0.99999702  0.9999985 ]\n"
     ]
    }
   ],
   "source": [
    "from ecbm4040.reg_funcs import bn_forward\n",
    "from ecbm4040.reg_funcs import bn_backward\n",
    "\n",
    "np.random.seed(4040)\n",
    "N, D, H1, H2 = 200, 10, 5, 3\n",
    "x_in = np.random.randn(N, D)\n",
    "w1 = np.random.randn(D,H1)\n",
    "w2 = np.random.randn(H1,H2)\n",
    "a2 = np.maximum(x_in.dot(w1),0).dot(w2)\n",
    "\n",
    "# Before batch normalization\n",
    "print(\"mean of a2: \", np.mean(a2, axis=0))\n",
    "print(\"var of a2: \", np.var(a2, axis=0))\n",
    "\n",
    "# Test \"train mode\" of forward function\n",
    "# After batch normalization, the mean should be close to zero and var should be close to one. \n",
    "bn_config = {\"epsilon\":1e-5, \"decay\":0.9}\n",
    "gamma = np.ones(H2)\n",
    "beta = np.zeros(H2)\n",
    "a2_bn, _ = bn_forward(a2, gamma, beta, bn_config, \"train\")\n",
    "print(\"(train) mean of a2_bn: \", np.mean(a2_bn, axis=0))\n",
    "print(\"(train) var of a2_bn: \", np.var(a2_bn, axis=0))"
   ]
  },
  {
   "cell_type": "code",
   "execution_count": 20,
   "metadata": {},
   "outputs": [
    {
     "name": "stdout",
     "output_type": "stream",
     "text": [
      "real mean of data:  [ 1.62794075 -1.60857628 -0.78808968]\n",
      "(real var of data:  [ 16.34752392   2.66419466   6.84626446]\n",
      "moving mean of data:  [ 1.68683077 -1.61915793 -0.80433584]\n",
      "(moving var of data:  [ 15.56532616   2.57663506   6.71365269]\n",
      "********************************************************************************\n",
      "mean of a2:  [ 1.52737121 -1.54704285 -0.61522203]\n",
      "var of a2:  [ 15.27195294   2.17307308   5.64061889]\n",
      "(test) mean of a2_bn:  [-0.04041767  0.04492611  0.07298666]\n",
      "(test) var of a2_bn:  [ 0.9811515   0.84337308  0.84017014]\n"
     ]
    }
   ],
   "source": [
    "# Test \"moving average\" and \"test mode\" of forward function\n",
    "# Then you are going to run the forward function under \"training mode\" for several times, \n",
    "# and the moving mean and moving var will be close to the real mean and var of the input data.\n",
    "# Next, run the forward function under \"test\" mode and you will see that the mean and var of its \n",
    "# output will be also close to gamma, beta that you have set before.\n",
    "\n",
    "bn_config = {\"epsilon\":1e-5, \"decay\":0.9}\n",
    "gamma = np.ones(H2)\n",
    "beta = np.zeros(H2)\n",
    "\n",
    "# collect_data: for calculating real mean and var of a2 later.\n",
    "collect_data = a2\n",
    "for _ in range(100):\n",
    "    x_in = np.random.randn(N, D)\n",
    "    a2 = np.maximum(x_in.dot(w1),0).dot(w2)\n",
    "    collect_data = np.concatenate((collect_data, a2), axis=0)\n",
    "    bn_forward(a2, gamma, beta, bn_config, \"train\")\n",
    "\n",
    "# compare moving_mean and moving_var with real mean and var.\n",
    "# You should see that they are close to each other.\n",
    "print(\"real mean of data: \", np.mean(collect_data, axis=0))\n",
    "print(\"(real var of data: \", np.var(collect_data, axis=0))\n",
    "print(\"moving mean of data: \", bn_config[\"moving_mean\"])\n",
    "print(\"(moving var of data: \", bn_config[\"moving_var\"])\n",
    "\n",
    "# \"test mode\" of forward function\n",
    "# After bn_forward, the mean and var of output should be kind of close to gamma and beta.\n",
    "x_in = np.random.randn(N, D)\n",
    "a2 = np.maximum(x_in.dot(w1),0).dot(w2)\n",
    "print(\"*\"*80)\n",
    "print(\"mean of a2: \", np.mean(a2, axis=0))\n",
    "print(\"var of a2: \", np.var(a2, axis=0))\n",
    "a2_bn, _ = bn_forward(a2, gamma, beta, bn_config, \"test\")\n",
    "print(\"(test) mean of a2_bn: \", np.mean(a2_bn, axis=0))\n",
    "print(\"(test) var of a2_bn: \", np.var(a2_bn, axis=0))"
   ]
  },
  {
   "cell_type": "code",
   "execution_count": 21,
   "metadata": {},
   "outputs": [
    {
     "name": "stdout",
     "output_type": "stream",
     "text": [
      "Is a2_bn correct? True\n",
      "Is da2 correct? False\n",
      "Is dgamma correct? False\n",
      "Is dbeta correct? True\n"
     ]
    }
   ],
   "source": [
    "# After verifying the forward function and save the bn_config.\n",
    "x_in = np.random.randn(N, D)\n",
    "a2 = np.maximum(x_in.dot(w1),0).dot(w2)\n",
    "da2_bn = np.ones_like(a2)\n",
    "# Test backward function with tensorflow\n",
    "#bn_config = {\"eps\":1e-5, \"decay\":0.9, \"moving_mean\":moving_mean, \"moving_var\":moving_var}\n",
    "gamma = np.ones(H2)\n",
    "beta = np.zeros(H2)\n",
    "a2_bn, cache = bn_forward(a2, gamma, beta, bn_config, \"test\")\n",
    "da2, dgamma, dbeta = bn_backward(da2_bn, cache)\n",
    "\n",
    "# Checking code below.\n",
    "a2_tf = tf.Variable(a2)\n",
    "eps = bn_config[\"epsilon\"]\n",
    "mean_tf = bn_config[\"moving_mean\"]\n",
    "var_tf = bn_config[\"moving_var\"]\n",
    "gamma_tf = tf.Variable(gamma)\n",
    "beta_tf = tf.Variable(beta)\n",
    "a2_bn_tf = tf.nn.batch_normalization(a2_tf, mean_tf, var_tf, beta_tf, gamma_tf, eps)\n",
    "# derive gradients\n",
    "da2_tf = tf.gradients(a2_bn_tf, a2_tf)\n",
    "dgamma_tf = tf.gradients(a2_bn_tf, gamma_tf)\n",
    "dbeta_tf = tf.gradients(a2_bn_tf, beta_tf)\n",
    "\n",
    "init = tf.global_variables_initializer()\n",
    "tf_output = (a2_bn_tf, da2_tf[0], dgamma_tf[0], dbeta_tf[0])\n",
    "with tf.Session() as sess:\n",
    "    sess.run(init)\n",
    "    a2_bn_check, da2_check, dgamma_check, dbeta_check = sess.run(tf_output)\n",
    "    \n",
    "# Make comparison\n",
    "print(\"Is a2_bn correct? {}\".format(np.allclose(a2_bn, a2_bn_check)))\n",
    "print(\"Is da2 correct? {}\".format(np.allclose(da2, da2_check)))\n",
    "print(\"Is dgamma correct? {}\".format(np.allclose(dgamma, dgamma_check)))\n",
    "print(\"Is dbeta correct? {}\".format(np.allclose(dbeta, dbeta_check)))"
   ]
  },
  {
   "cell_type": "markdown",
   "metadata": {},
   "source": [
    "### Experiments with MLP\n",
    "\n",
    "<span style=\"color:red\"><strong>TODO:</strong></span>\n",
    "\n",
    "1. Add batch normalization into MLP. Please understand **loss**, **predict** function of class **MLP** in **./ecbm4040/neuralnets/mlp.py**\n",
    "\n",
    "2. First create a shallow MLP like two-layer network like [100,10]. And train it without/with batch normalization. Plot the loss, train accuracy and valid accuracy curve.\n",
    "\n",
    "3. Then, create a 5-layer MLP network like [100,50,50,50,10] and train the network with/without batch normalization. Again, Plot the loss, train accuracy and valid accuracy curve.\n",
    "\n",
    "4. Make a comparison and describe what you have found in this experiment."
   ]
  },
  {
   "cell_type": "markdown",
   "metadata": {},
   "source": [
    "**Experiment on shallow MLP** "
   ]
  },
  {
   "cell_type": "code",
   "execution_count": 26,
   "metadata": {
    "scrolled": true
   },
   "outputs": [
    {
     "name": "stdout",
     "output_type": "stream",
     "text": [
      "number of batches for training: 20\n",
      "epoch 1: valid acc = 0.232, new learning rate = 0.00095\n",
      "epoch 2: valid acc = 0.308, new learning rate = 0.0009025\n",
      "epoch 3: valid acc = 0.282, new learning rate = 0.000857375\n",
      "epoch 4: valid acc = 0.306, new learning rate = 0.0008145062499999999\n",
      "epoch 5: valid acc = 0.314, new learning rate = 0.0007737809374999998\n",
      "epoch 6: valid acc = 0.29, new learning rate = 0.0007350918906249997\n",
      "epoch 7: valid acc = 0.314, new learning rate = 0.0006983372960937497\n",
      "epoch 8: valid acc = 0.306, new learning rate = 0.0006634204312890621\n",
      "epoch 9: valid acc = 0.29, new learning rate = 0.000630249409724609\n",
      "epoch 10: valid acc = 0.304, new learning rate = 0.0005987369392383785\n",
      "epoch 11: valid acc = 0.314, new learning rate = 0.0005688000922764595\n",
      "epoch 12: valid acc = 0.3, new learning rate = 0.0005403600876626365\n",
      "epoch 13: valid acc = 0.306, new learning rate = 0.0005133420832795047\n",
      "epoch 14: valid acc = 0.304, new learning rate = 0.00048767497911552944\n",
      "epoch 15: valid acc = 0.288, new learning rate = 0.00046329123015975297\n",
      "epoch 16: valid acc = 0.348, new learning rate = 0.0004401266686517653\n",
      "epoch 17: valid acc = 0.304, new learning rate = 0.00041812033521917703\n",
      "epoch 18: valid acc = 0.32, new learning rate = 0.00039721431845821814\n",
      "epoch 19: valid acc = 0.318, new learning rate = 0.0003773536025353072\n",
      "epoch 20: valid acc = 0.33, new learning rate = 0.0003584859224085418\n",
      "epoch 21: valid acc = 0.322, new learning rate = 0.0003405616262881147\n",
      "epoch 22: valid acc = 0.308, new learning rate = 0.00032353354497370894\n",
      "epoch 23: valid acc = 0.332, new learning rate = 0.00030735686772502346\n",
      "epoch 24: valid acc = 0.316, new learning rate = 0.00029198902433877225\n",
      "epoch 25: valid acc = 0.314, new learning rate = 0.00027738957312183364\n",
      "epoch 26: valid acc = 0.338, new learning rate = 0.0002635200944657419\n",
      "epoch 27: valid acc = 0.34, new learning rate = 0.0002503440897424548\n",
      "epoch 28: valid acc = 0.36, new learning rate = 0.00023782688525533205\n",
      "epoch 29: valid acc = 0.352, new learning rate = 0.00022593554099256544\n",
      "epoch 30: valid acc = 0.33, new learning rate = 0.00021463876394293716\n",
      "epoch 31: valid acc = 0.328, new learning rate = 0.0002039068257457903\n",
      "epoch 32: valid acc = 0.318, new learning rate = 0.00019371148445850077\n",
      "epoch 33: valid acc = 0.326, new learning rate = 0.00018402591023557573\n",
      "epoch 34: valid acc = 0.334, new learning rate = 0.00017482461472379692\n",
      "epoch 35: valid acc = 0.348, new learning rate = 0.00016608338398760707\n",
      "epoch 36: valid acc = 0.34, new learning rate = 0.0001577792147882267\n",
      "epoch 37: valid acc = 0.344, new learning rate = 0.00014989025404881537\n",
      "epoch 38: valid acc = 0.352, new learning rate = 0.00014239574134637458\n",
      "epoch 39: valid acc = 0.35, new learning rate = 0.00013527595427905584\n",
      "epoch 40: valid acc = 0.366, new learning rate = 0.00012851215656510304\n",
      "epoch 41: valid acc = 0.344, new learning rate = 0.00012208654873684788\n",
      "epoch 42: valid acc = 0.346, new learning rate = 0.00011598222130000548\n",
      "epoch 43: valid acc = 0.344, new learning rate = 0.00011018311023500519\n",
      "epoch 44: valid acc = 0.35, new learning rate = 0.00010467395472325493\n",
      "epoch 45: valid acc = 0.33, new learning rate = 9.944025698709218e-05\n",
      "epoch 46: valid acc = 0.326, new learning rate = 9.446824413773756e-05\n",
      "epoch 47: valid acc = 0.324, new learning rate = 8.974483193085068e-05\n",
      "epoch 48: valid acc = 0.332, new learning rate = 8.525759033430814e-05\n",
      "epoch 49: valid acc = 0.336, new learning rate = 8.099471081759274e-05\n",
      "epoch 50: valid acc = 0.33, new learning rate = 7.69449752767131e-05\n"
     ]
    }
   ],
   "source": [
    "# Build a two-layer netowrk without batch normalization.\n",
    "# Here is a demo.\n",
    "use_bn = False\n",
    "model = MLP(input_dim=3072, hidden_dims=[100], num_classes=10, \n",
    "            weight_scale=1e-3, l2_reg=0.0, use_bn=use_bn)\n",
    "optimizer = AdamOptim(model)\n",
    "# hist_shallow_no_bn contains loss, train acc and valid acc history.\n",
    "hist_shallow_no_bn = optimizer.train(model, X_train, y_train, X_val, y_val, \n",
    "                           num_epoch=50, batch_size=100, learning_rate=1e-3, learning_decay=0.95, \n",
    "                           verbose=False, record_interval = 4)"
   ]
  },
  {
   "cell_type": "code",
   "execution_count": 27,
   "metadata": {
    "scrolled": true
   },
   "outputs": [
    {
     "name": "stdout",
     "output_type": "stream",
     "text": [
      "number of batches for training: 20\n",
      "epoch 1: valid acc = 0.182, new learning rate = 0.00095\n",
      "epoch 2: valid acc = 0.198, new learning rate = 0.0009025\n",
      "epoch 3: valid acc = 0.196, new learning rate = 0.000857375\n",
      "epoch 4: valid acc = 0.178, new learning rate = 0.0008145062499999999\n",
      "epoch 5: valid acc = 0.184, new learning rate = 0.0007737809374999998\n",
      "epoch 6: valid acc = 0.2, new learning rate = 0.0007350918906249997\n",
      "epoch 7: valid acc = 0.2, new learning rate = 0.0006983372960937497\n",
      "epoch 8: valid acc = 0.21, new learning rate = 0.0006634204312890621\n",
      "epoch 9: valid acc = 0.202, new learning rate = 0.000630249409724609\n",
      "epoch 10: valid acc = 0.2, new learning rate = 0.0005987369392383785\n",
      "epoch 11: valid acc = 0.194, new learning rate = 0.0005688000922764595\n",
      "epoch 12: valid acc = 0.198, new learning rate = 0.0005403600876626365\n",
      "epoch 13: valid acc = 0.194, new learning rate = 0.0005133420832795047\n",
      "epoch 14: valid acc = 0.196, new learning rate = 0.00048767497911552944\n",
      "epoch 15: valid acc = 0.2, new learning rate = 0.00046329123015975297\n",
      "epoch 16: valid acc = 0.206, new learning rate = 0.0004401266686517653\n",
      "epoch 17: valid acc = 0.214, new learning rate = 0.00041812033521917703\n",
      "epoch 18: valid acc = 0.228, new learning rate = 0.00039721431845821814\n",
      "epoch 19: valid acc = 0.234, new learning rate = 0.0003773536025353072\n",
      "epoch 20: valid acc = 0.234, new learning rate = 0.0003584859224085418\n",
      "epoch 21: valid acc = 0.236, new learning rate = 0.0003405616262881147\n",
      "epoch 22: valid acc = 0.236, new learning rate = 0.00032353354497370894\n",
      "epoch 23: valid acc = 0.232, new learning rate = 0.00030735686772502346\n",
      "epoch 24: valid acc = 0.24, new learning rate = 0.00029198902433877225\n",
      "epoch 25: valid acc = 0.244, new learning rate = 0.00027738957312183364\n",
      "epoch 26: valid acc = 0.244, new learning rate = 0.0002635200944657419\n",
      "epoch 27: valid acc = 0.252, new learning rate = 0.0002503440897424548\n",
      "epoch 28: valid acc = 0.254, new learning rate = 0.00023782688525533205\n",
      "epoch 29: valid acc = 0.252, new learning rate = 0.00022593554099256544\n",
      "epoch 30: valid acc = 0.25, new learning rate = 0.00021463876394293716\n",
      "epoch 31: valid acc = 0.254, new learning rate = 0.0002039068257457903\n",
      "epoch 32: valid acc = 0.256, new learning rate = 0.00019371148445850077\n",
      "epoch 33: valid acc = 0.26, new learning rate = 0.00018402591023557573\n",
      "epoch 34: valid acc = 0.256, new learning rate = 0.00017482461472379692\n",
      "epoch 35: valid acc = 0.262, new learning rate = 0.00016608338398760707\n",
      "epoch 36: valid acc = 0.256, new learning rate = 0.0001577792147882267\n",
      "epoch 37: valid acc = 0.262, new learning rate = 0.00014989025404881537\n",
      "epoch 38: valid acc = 0.266, new learning rate = 0.00014239574134637458\n",
      "epoch 39: valid acc = 0.264, new learning rate = 0.00013527595427905584\n",
      "epoch 40: valid acc = 0.27, new learning rate = 0.00012851215656510304\n",
      "epoch 41: valid acc = 0.272, new learning rate = 0.00012208654873684788\n",
      "epoch 42: valid acc = 0.272, new learning rate = 0.00011598222130000548\n",
      "epoch 43: valid acc = 0.274, new learning rate = 0.00011018311023500519\n",
      "epoch 44: valid acc = 0.276, new learning rate = 0.00010467395472325493\n",
      "epoch 45: valid acc = 0.27, new learning rate = 9.944025698709218e-05\n",
      "epoch 46: valid acc = 0.274, new learning rate = 9.446824413773756e-05\n",
      "epoch 47: valid acc = 0.276, new learning rate = 8.974483193085068e-05\n",
      "epoch 48: valid acc = 0.28, new learning rate = 8.525759033430814e-05\n",
      "epoch 49: valid acc = 0.276, new learning rate = 8.099471081759274e-05\n",
      "epoch 50: valid acc = 0.278, new learning rate = 7.69449752767131e-05\n"
     ]
    }
   ],
   "source": [
    "# Build a two-layer netowrk with batch normalization. Remember to \"use_bn\".\n",
    "use_bn = True\n",
    "model = MLP(input_dim=3072, hidden_dims=[100], num_classes=10, \n",
    "            weight_scale=1e-3, l2_reg=0.0, use_bn=use_bn)\n",
    "optimizer = AdamOptim(model)\n",
    "# hist_shallow_bn contains loss, train acc and valid acc history.\n",
    "hist_shallow_bn = optimizer.train(model, X_train, y_train, X_val, y_val, \n",
    "                           num_epoch=50, batch_size=100, learning_rate=1e-3, learning_decay=0.95, \n",
    "                           verbose=False, record_interval = 4)"
   ]
  },
  {
   "cell_type": "code",
   "execution_count": 28,
   "metadata": {},
   "outputs": [
    {
     "data": {
      "image/png": "[encoded data removed]",
      "text/plain": [
       "<matplotlib.figure.Figure at 0x7f9e884bb668>"
      ]
     },
     "metadata": {},
     "output_type": "display_data"
    }
   ],
   "source": [
    "# Plot both results together and make a comparison. \n",
    "title_name = [\"loss\", \"train acc\", \"val acc\"]\n",
    "_, axarr = plt.subplots(1,3, figsize=(15,5))\n",
    "for i in range(3):\n",
    "    axarr[i].plot(hist_shallow_no_bn[i], label=\"no_bn\")\n",
    "    axarr[i].plot(hist_shallow_bn[i], label=\"bn\")\n",
    "    axarr[i].legend(), axarr[i].set_title(title_name[i])\n",
    "plt.show()"
   ]
  },
  {
   "cell_type": "markdown",
   "metadata": {},
   "source": [
    "**Experiment on deep MLP**"
   ]
  },
  {
   "cell_type": "code",
   "execution_count": 29,
   "metadata": {
    "scrolled": true
   },
   "outputs": [
    {
     "name": "stdout",
     "output_type": "stream",
     "text": [
      "number of batches for training: 20\n",
      "epoch 1: valid acc = 0.092, new learning rate = 0.00095\n",
      "epoch 2: valid acc = 0.092, new learning rate = 0.0009025\n",
      "epoch 3: valid acc = 0.092, new learning rate = 0.000857375\n",
      "epoch 4: valid acc = 0.092, new learning rate = 0.0008145062499999999\n",
      "epoch 5: valid acc = 0.092, new learning rate = 0.0007737809374999998\n",
      "epoch 6: valid acc = 0.092, new learning rate = 0.0007350918906249997\n",
      "epoch 7: valid acc = 0.092, new learning rate = 0.0006983372960937497\n",
      "epoch 8: valid acc = 0.092, new learning rate = 0.0006634204312890621\n",
      "epoch 9: valid acc = 0.092, new learning rate = 0.000630249409724609\n",
      "epoch 10: valid acc = 0.092, new learning rate = 0.0005987369392383785\n",
      "epoch 11: valid acc = 0.092, new learning rate = 0.0005688000922764595\n",
      "epoch 12: valid acc = 0.092, new learning rate = 0.0005403600876626365\n",
      "epoch 13: valid acc = 0.092, new learning rate = 0.0005133420832795047\n",
      "epoch 14: valid acc = 0.092, new learning rate = 0.00048767497911552944\n",
      "epoch 15: valid acc = 0.092, new learning rate = 0.00046329123015975297\n",
      "epoch 16: valid acc = 0.092, new learning rate = 0.0004401266686517653\n",
      "epoch 17: valid acc = 0.092, new learning rate = 0.00041812033521917703\n",
      "epoch 18: valid acc = 0.092, new learning rate = 0.00039721431845821814\n",
      "epoch 19: valid acc = 0.092, new learning rate = 0.0003773536025353072\n",
      "epoch 20: valid acc = 0.092, new learning rate = 0.0003584859224085418\n",
      "epoch 21: valid acc = 0.092, new learning rate = 0.0003405616262881147\n",
      "epoch 22: valid acc = 0.092, new learning rate = 0.00032353354497370894\n",
      "epoch 23: valid acc = 0.092, new learning rate = 0.00030735686772502346\n",
      "epoch 24: valid acc = 0.092, new learning rate = 0.00029198902433877225\n",
      "epoch 25: valid acc = 0.092, new learning rate = 0.00027738957312183364\n",
      "epoch 26: valid acc = 0.092, new learning rate = 0.0002635200944657419\n",
      "epoch 27: valid acc = 0.092, new learning rate = 0.0002503440897424548\n",
      "epoch 28: valid acc = 0.092, new learning rate = 0.00023782688525533205\n",
      "epoch 29: valid acc = 0.092, new learning rate = 0.00022593554099256544\n",
      "epoch 30: valid acc = 0.092, new learning rate = 0.00021463876394293716\n",
      "epoch 31: valid acc = 0.092, new learning rate = 0.0002039068257457903\n",
      "epoch 32: valid acc = 0.092, new learning rate = 0.00019371148445850077\n",
      "epoch 33: valid acc = 0.092, new learning rate = 0.00018402591023557573\n",
      "epoch 34: valid acc = 0.092, new learning rate = 0.00017482461472379692\n",
      "epoch 35: valid acc = 0.092, new learning rate = 0.00016608338398760707\n",
      "epoch 36: valid acc = 0.092, new learning rate = 0.0001577792147882267\n",
      "epoch 37: valid acc = 0.092, new learning rate = 0.00014989025404881537\n",
      "epoch 38: valid acc = 0.092, new learning rate = 0.00014239574134637458\n",
      "epoch 39: valid acc = 0.092, new learning rate = 0.00013527595427905584\n",
      "epoch 40: valid acc = 0.092, new learning rate = 0.00012851215656510304\n",
      "epoch 41: valid acc = 0.092, new learning rate = 0.00012208654873684788\n",
      "epoch 42: valid acc = 0.092, new learning rate = 0.00011598222130000548\n",
      "epoch 43: valid acc = 0.092, new learning rate = 0.00011018311023500519\n",
      "epoch 44: valid acc = 0.092, new learning rate = 0.00010467395472325493\n",
      "epoch 45: valid acc = 0.092, new learning rate = 9.944025698709218e-05\n",
      "epoch 46: valid acc = 0.092, new learning rate = 9.446824413773756e-05\n",
      "epoch 47: valid acc = 0.092, new learning rate = 8.974483193085068e-05\n",
      "epoch 48: valid acc = 0.092, new learning rate = 8.525759033430814e-05\n",
      "epoch 49: valid acc = 0.092, new learning rate = 8.099471081759274e-05\n",
      "epoch 50: valid acc = 0.092, new learning rate = 7.69449752767131e-05\n"
     ]
    }
   ],
   "source": [
    "# Build a deep 5-layer netowrk without batch normalization. Remember to \"use_bn\".\n",
    "use_bn = False\n",
    "model = MLP(input_dim=3072, hidden_dims=[100, 50, 50, 50], num_classes=10, \n",
    "            weight_scale=1e-3, l2_reg=0.0, use_bn=use_bn)\n",
    "optimizer = AdamOptim(model)\n",
    "# hist_no_dropout contains loss, train acc and valid acc history.\n",
    "hist_deep_no_bn = optimizer.train(model, X_train, y_train, X_val, y_val, \n",
    "                           num_epoch=50, batch_size=100, learning_rate=1e-3, learning_decay=0.95, \n",
    "                           verbose=False, record_interval = 4)"
   ]
  },
  {
   "cell_type": "code",
   "execution_count": 30,
   "metadata": {
    "scrolled": true
   },
   "outputs": [
    {
     "name": "stdout",
     "output_type": "stream",
     "text": [
      "number of batches for training: 20\n",
      "epoch 1: valid acc = 0.092, new learning rate = 0.00095\n",
      "epoch 2: valid acc = 0.08, new learning rate = 0.0009025\n",
      "epoch 3: valid acc = 0.144, new learning rate = 0.000857375\n",
      "epoch 4: valid acc = 0.114, new learning rate = 0.0008145062499999999\n",
      "epoch 5: valid acc = 0.144, new learning rate = 0.0007737809374999998\n",
      "epoch 6: valid acc = 0.11, new learning rate = 0.0007350918906249997\n",
      "epoch 7: valid acc = 0.138, new learning rate = 0.0006983372960937497\n",
      "epoch 8: valid acc = 0.142, new learning rate = 0.0006634204312890621\n",
      "epoch 9: valid acc = 0.142, new learning rate = 0.000630249409724609\n",
      "epoch 10: valid acc = 0.126, new learning rate = 0.0005987369392383785\n",
      "epoch 11: valid acc = 0.136, new learning rate = 0.0005688000922764595\n",
      "epoch 12: valid acc = 0.148, new learning rate = 0.0005403600876626365\n",
      "epoch 13: valid acc = 0.144, new learning rate = 0.0005133420832795047\n",
      "epoch 14: valid acc = 0.15, new learning rate = 0.00048767497911552944\n",
      "epoch 15: valid acc = 0.156, new learning rate = 0.00046329123015975297\n",
      "epoch 16: valid acc = 0.152, new learning rate = 0.0004401266686517653\n",
      "epoch 17: valid acc = 0.154, new learning rate = 0.00041812033521917703\n",
      "epoch 18: valid acc = 0.152, new learning rate = 0.00039721431845821814\n",
      "epoch 19: valid acc = 0.154, new learning rate = 0.0003773536025353072\n",
      "epoch 20: valid acc = 0.152, new learning rate = 0.0003584859224085418\n",
      "epoch 21: valid acc = 0.152, new learning rate = 0.0003405616262881147\n",
      "epoch 22: valid acc = 0.146, new learning rate = 0.00032353354497370894\n",
      "epoch 23: valid acc = 0.156, new learning rate = 0.00030735686772502346\n",
      "epoch 24: valid acc = 0.152, new learning rate = 0.00029198902433877225\n",
      "epoch 25: valid acc = 0.156, new learning rate = 0.00027738957312183364\n",
      "epoch 26: valid acc = 0.138, new learning rate = 0.0002635200944657419\n",
      "epoch 27: valid acc = 0.15, new learning rate = 0.0002503440897424548\n",
      "epoch 28: valid acc = 0.146, new learning rate = 0.00023782688525533205\n",
      "epoch 29: valid acc = 0.148, new learning rate = 0.00022593554099256544\n",
      "epoch 30: valid acc = 0.168, new learning rate = 0.00021463876394293716\n",
      "epoch 31: valid acc = 0.156, new learning rate = 0.0002039068257457903\n",
      "epoch 32: valid acc = 0.156, new learning rate = 0.00019371148445850077\n",
      "epoch 33: valid acc = 0.152, new learning rate = 0.00018402591023557573\n",
      "epoch 34: valid acc = 0.166, new learning rate = 0.00017482461472379692\n",
      "epoch 35: valid acc = 0.16, new learning rate = 0.00016608338398760707\n",
      "epoch 36: valid acc = 0.156, new learning rate = 0.0001577792147882267\n",
      "epoch 37: valid acc = 0.154, new learning rate = 0.00014989025404881537\n",
      "epoch 38: valid acc = 0.164, new learning rate = 0.00014239574134637458\n",
      "epoch 39: valid acc = 0.164, new learning rate = 0.00013527595427905584\n",
      "epoch 40: valid acc = 0.162, new learning rate = 0.00012851215656510304\n",
      "epoch 41: valid acc = 0.164, new learning rate = 0.00012208654873684788\n",
      "epoch 42: valid acc = 0.164, new learning rate = 0.00011598222130000548\n",
      "epoch 43: valid acc = 0.17, new learning rate = 0.00011018311023500519\n",
      "epoch 44: valid acc = 0.162, new learning rate = 0.00010467395472325493\n",
      "epoch 45: valid acc = 0.162, new learning rate = 9.944025698709218e-05\n",
      "epoch 46: valid acc = 0.166, new learning rate = 9.446824413773756e-05\n",
      "epoch 47: valid acc = 0.164, new learning rate = 8.974483193085068e-05\n",
      "epoch 48: valid acc = 0.164, new learning rate = 8.525759033430814e-05\n",
      "epoch 49: valid acc = 0.168, new learning rate = 8.099471081759274e-05\n",
      "epoch 50: valid acc = 0.17, new learning rate = 7.69449752767131e-05\n"
     ]
    }
   ],
   "source": [
    "# Build a deep 5-layer netowrk with batch normalization. Remember to \"use_bn\".\n",
    "use_bn = True\n",
    "model = MLP(input_dim=3072, hidden_dims=[100, 50, 50, 50], num_classes=10, \n",
    "            weight_scale=1e-3, l2_reg=0.0, use_bn=use_bn)\n",
    "optimizer = AdamOptim(model)\n",
    "# hist_dropout contains loss, train acc and valid acc history.\n",
    "hist_deep_bn = optimizer.train(model, X_train, y_train, X_val, y_val, \n",
    "                           num_epoch=50, batch_size=100, learning_rate=1e-3, learning_decay=0.95, \n",
    "                           verbose=False, record_interval = 4)"
   ]
  },
  {
   "cell_type": "code",
   "execution_count": 31,
   "metadata": {},
   "outputs": [
    {
     "data": {
      "image/png": "[encoded data removed]",
      "text/plain": [
       "<matplotlib.figure.Figure at 0x7f9e8379aa20>"
      ]
     },
     "metadata": {},
     "output_type": "display_data"
    }
   ],
   "source": [
    "# Plot both results together and make a comparison.\n",
    "title_name = [\"loss\", \"train acc\", \"val acc\"]\n",
    "_, axarr = plt.subplots(1,3, figsize=(15,5))\n",
    "for i in range(3):\n",
    "    axarr[i].plot(hist_deep_no_bn[i], label=\"no_bn\")\n",
    "    axarr[i].plot(hist_deep_bn[i], label=\"bn\")\n",
    "    axarr[i].legend(), axarr[i].set_title(title_name[i])\n",
    "plt.show()"
   ]
  },
  {
   "cell_type": "markdown",
   "metadata": {},
   "source": [
    "<span style=\"color:red\"><strong>TODO:</strong></span> Describe what you find in this experiment."
   ]
  },
  {
   "cell_type": "markdown",
   "metadata": {},
   "source": [
    "Answer: **[fill in here]**"
   ]
  },
  {
   "cell_type": "markdown",
   "metadata": {},
   "source": [
    "## Part 3: Dropout + Batch Normalization (optional)"
   ]
  },
  {
   "cell_type": "code",
   "execution_count": null,
   "metadata": {
    "collapsed": true
   },
   "outputs": [],
   "source": [
    "# Create a deep netowrk with both dropout and batch normalization."
   ]
  },
  {
   "cell_type": "markdown",
   "metadata": {},
   "source": [
    "## Reference\n",
    "* Weight Normalization: A Simple Reparameterization to Accelerate Training of Deep Neural Networks https://arxiv.org/abs/1602.07868\n",
    "* Highway netowrk https://arxiv.org/pdf/1505.00387.pdf"
   ]
  }
 ],
 "metadata": {
  "kernelspec": {
   "display_name": "Python 3",
   "language": "python",
   "name": "python3"
  },
  "language_info": {
   "codemirror_mode": {
    "name": "ipython",
    "version": 3
   },
   "file_extension": ".py",
   "mimetype": "text/x-python",
   "name": "python",
   "nbconvert_exporter": "python",
   "pygments_lexer": "ipython3",
   "version": "3.5.2+"
  }
 },
 "nbformat": 4,
 "nbformat_minor": 2
}
